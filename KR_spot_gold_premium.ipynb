{
 "cells": [
  {
   "cell_type": "code",
   "execution_count": 183,
   "id": "61ce7c96-eea8-47bc-a5ea-58604361f598",
   "metadata": {},
   "outputs": [],
   "source": [
    "import requests\n",
    "from bs4 import BeautifulSoup\n",
    "\n",
    "url = \"https://finance.naver.com/marketindex/?tabSel=gold#tab_section\"\n",
    "\n",
    "response = requests.get(url)\n",
    "soup = BeautifulSoup(response.text, \"html.parser\")\n",
    "\n",
    "global_gold = 'gold_inter' # per toz: 1트로이온스(Troy ounce) = 31.1034768g\n",
    "domestic_gold = 'gold_domestic'\n",
    "krwusd = 'usd'\n",
    "\n",
    "def get_current_prev_price(head_str):\n",
    "    current_price = float(soup.find_all('a', class_=f'head {head_str}')[0].select('span.value')[0].text.replace(',',''))\n",
    "    price_change = float(soup.find_all('a', class_=f'head {head_str}')[0].select('span.change')[0].text.replace(',',''))\n",
    "    direction = soup.find_all('a', class_=f'head {head_str}')[0].select('span.blind')[-1].text\n",
    "    direction_int = 1 if '상승' == direction else -1\n",
    "    prev_price = current_price + price_change * direction_int\n",
    "\n",
    "    prices_ser = pd.Series({\n",
    "        'current_price': current_price,\n",
    "        'prev_price': prev_price\n",
    "    })\n",
    "    return prices_ser"
   ]
  },
  {
   "cell_type": "code",
   "execution_count": 252,
   "id": "a7ea2928-4ef4-4789-bc35-18482e8e2fa6",
   "metadata": {},
   "outputs": [
    {
     "data": {
      "text/html": [
       "<style type=\"text/css\">\n",
       "</style>\n",
       "<table id=\"T_2ca08\">\n",
       "  <thead>\n",
       "    <tr>\n",
       "      <th class=\"blank level0\" >&nbsp;</th>\n",
       "      <th id=\"T_2ca08_level0_col0\" class=\"col_heading level0 col0\" >current_price</th>\n",
       "      <th id=\"T_2ca08_level0_col1\" class=\"col_heading level0 col1\" >prev_price</th>\n",
       "    </tr>\n",
       "  </thead>\n",
       "  <tbody>\n",
       "    <tr>\n",
       "      <th id=\"T_2ca08_level0_row0\" class=\"row_heading level0 row0\" >domestic_gld_prcs</th>\n",
       "      <td id=\"T_2ca08_row0_col0\" class=\"data row0 col0\" >145,619.68</td>\n",
       "      <td id=\"T_2ca08_row0_col1\" class=\"data row0 col1\" >143,989.59</td>\n",
       "    </tr>\n",
       "    <tr>\n",
       "      <th id=\"T_2ca08_level0_row1\" class=\"row_heading level0 row1\" >global_gld_krw</th>\n",
       "      <td id=\"T_2ca08_row1_col0\" class=\"data row1 col0\" >148,717.10</td>\n",
       "      <td id=\"T_2ca08_row1_col1\" class=\"data row1 col1\" >152,320.49</td>\n",
       "    </tr>\n",
       "    <tr>\n",
       "      <th id=\"T_2ca08_level0_row2\" class=\"row_heading level0 row2\" >premium_krw</th>\n",
       "      <td id=\"T_2ca08_row2_col0\" class=\"data row2 col0\" >-3,097.42</td>\n",
       "      <td id=\"T_2ca08_row2_col1\" class=\"data row2 col1\" >-8,330.90</td>\n",
       "    </tr>\n",
       "    <tr>\n",
       "      <th id=\"T_2ca08_level0_row3\" class=\"row_heading level0 row3\" >premium_pct</th>\n",
       "      <td id=\"T_2ca08_row3_col0\" class=\"data row3 col0\" >-2.08</td>\n",
       "      <td id=\"T_2ca08_row3_col1\" class=\"data row3 col1\" >-5.47</td>\n",
       "    </tr>\n",
       "  </tbody>\n",
       "</table>\n"
      ],
      "text/plain": [
       "<pandas.io.formats.style.Styler at 0x144c56fd0>"
      ]
     },
     "execution_count": 252,
     "metadata": {},
     "output_type": "execute_result"
    }
   ],
   "source": [
    "global_gld_prcs = get_current_prev_price(global_gold) # 국제 금 시세\n",
    "domestic_gld_prcs = get_current_prev_price(domestic_gold) # 국내 금 시세\n",
    "krwusd_prcs = get_current_prev_price(krwusd) # 원화 환율\n",
    "\n",
    "global_gld_krw = global_gld_prcs * krwusd_prcs / 31.1034768\n",
    "summary_df = pd.concat([domestic_gld_prcs.rename('domestic_gld_prcs'), global_gld_krw.rename('global_gld_krw')], axis=1)\n",
    "summary_df['premium_krw'] = summary_df.domestic_gld_prcs - summary_df.global_gld_krw\n",
    "summary_df['premium_pct'] = (summary_df.domestic_gld_prcs / summary_df.global_gld_krw - 1) * 100\n",
    "\n",
    "# 1g당 금시세 차이\n",
    "summary_df.T.style.format(\"{:,.2f}\")"
   ]
  }
 ],
 "metadata": {
  "kernelspec": {
   "display_name": "Python 3 (ipykernel)",
   "language": "python",
   "name": "python3"
  },
  "language_info": {
   "codemirror_mode": {
    "name": "ipython",
    "version": 3
   },
   "file_extension": ".py",
   "mimetype": "text/x-python",
   "name": "python",
   "nbconvert_exporter": "python",
   "pygments_lexer": "ipython3",
   "version": "3.11.7"
  }
 },
 "nbformat": 4,
 "nbformat_minor": 5
}
